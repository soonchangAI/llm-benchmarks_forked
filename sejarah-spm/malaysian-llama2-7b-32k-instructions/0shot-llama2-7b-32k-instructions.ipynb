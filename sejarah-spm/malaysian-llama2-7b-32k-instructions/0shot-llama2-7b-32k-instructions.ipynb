{
 "cells": [
  {
   "cell_type": "code",
   "execution_count": 1,
   "id": "0746741b",
   "metadata": {},
   "outputs": [],
   "source": [
    "# !wget https://raw.githubusercontent.com/mesolitica/malaysian-dataset/master/llm-benchmark/BM-pt3/BM-A-pt3"
   ]
  },
  {
   "cell_type": "code",
   "execution_count": 2,
   "id": "93662362",
   "metadata": {},
   "outputs": [],
   "source": [
    "# import os\n",
    "\n",
    "# os.environ['CUDA_VISIBLE_DEVICES'] = '0'"
   ]
  },
  {
   "cell_type": "code",
   "execution_count": 3,
   "id": "3b088c88",
   "metadata": {},
   "outputs": [
    {
     "name": "stderr",
     "output_type": "stream",
     "text": [
      "/home/cybertron/anaconda3/envs/sealion/lib/python3.10/site-packages/tqdm/auto.py:21: TqdmWarning: IProgress not found. Please update jupyter and ipywidgets. See https://ipywidgets.readthedocs.io/en/stable/user_install.html\n",
      "  from .autonotebook import tqdm as notebook_tqdm\n"
     ]
    }
   ],
   "source": [
    "from transformers import AutoTokenizer, AutoModelForCausalLM\n",
    "import torch\n",
    "from transformers.trainer_utils import get_last_checkpoint\n",
    "\n",
    "#latest = get_last_checkpoint(\"fpf-7b-instructions-16k-call\")"
   ]
  },
  {
   "cell_type": "code",
   "execution_count": 4,
   "id": "b6d200e3",
   "metadata": {},
   "outputs": [
    {
     "name": "stderr",
     "output_type": "stream",
     "text": [
      "Loading checkpoint shards: 100%|████████████████████████████████████████████████████████████████████████████████| 3/3 [00:04<00:00,  1.55s/it]\n"
     ]
    }
   ],
   "source": [
    "# tokenizer = AutoTokenizer.from_pretrained(latest)\n",
    "# model = AutoModelForCausalLM.from_pretrained(\n",
    "#     latest, \n",
    "#     use_flash_attention_2 = True, \n",
    "#     torch_dtype = torch.float16,\n",
    "#     device_map=\"cuda:0\"\n",
    "# )\n",
    "tokenizer = AutoTokenizer.from_pretrained('mesolitica/malaysian-llama2-7b-32k-instructions-v2', trust_remote_code=True)\n",
    "kwargs = {'device_map': 'auto', 'torch_dtype': torch.float16}\n",
    "model= AutoModelForCausalLM.from_pretrained('mesolitica/malaysian-llama2-7b-32k-instructions-v2', **kwargs)"
   ]
  },
  {
   "cell_type": "code",
   "execution_count": 5,
   "id": "7d16b8ef",
   "metadata": {},
   "outputs": [],
   "source": [
    "from tqdm import tqdm\n",
    "import os\n",
    "import random\n",
    "torch.manual_seed(404)\n",
    "random.seed(404)"
   ]
  },
  {
   "cell_type": "code",
   "execution_count": 6,
   "id": "a06177bd",
   "metadata": {},
   "outputs": [
    {
     "name": "stdout",
     "output_type": "stream",
     "text": [
      "{'no': '1', 'soalan': 'Apakah yang dimaksudkan dengan wilayah pengaruh?\\nA. Kawasan tanah jajahan dan takluk raja\\nB. Kawasan yang dinaungi oleh raja dan kerabatnya\\nC. Kawasan yang rakyatnya menerima dan memperakui pemerintahan seseorang raja\\nD. Kawasan yang rakyatnya menganggap raja sebagai tuhan atau wakil tuhan', 'jawapan': 'C'}\n",
      "{'no': '2', 'soalan': 'Bagaimanakah Raja dalam kerajaan Alam Melayu memperkukuhkan kedudukannya?\\nA. Ketaatan rakyat kepada raja\\nB. Rakyat dianggap suci\\nC. Rakyat menyembah raja\\nD. Raja menjalankan kerahan tenaga', 'jawapan': 'A'}\n",
      "{'no': '3', 'soalan': 'Apakah faktor perbezaan idea nasionalisme antara negara dengan zaman?\\nA. Politik\\nB. Darjat\\nC. Keturunan\\nD. Ekonomi', 'jawapan': 'C'}\n",
      "{'no': '4', 'soalan': \"Maklumat berikut berkaitan dengan pendapat tokoh mengenai nasionalisme. \\nKita hendak menzahirkan suatu bangsa yang lebih tegap dan kuat, boleh\\nberdiri di atas tapak kaki kita sendiri dan mengambil tempat kita yang\\nsebenar di sisi bangsa-bangsa lain. Siapakah tokoh yang memberikan tafsiran nasionalisme tersebut?\\nA. Dato' Onn Jaafar\\nB. Dr. R. Suntharalingam\\nC. Dr. Burhanuddin al-Helmi\\nD. Profesor William R. Roff\", 'jawapan': 'A'}\n",
      "{'no': '5', 'soalan': 'Apakah inti pati syarat kewarganegaraan mengikut prinsip jus soli?\\nA. Seluruh rakyat yang dilahirkan di Britain diiktiraf sebagai warga Malayan Union\\nB. Seluruh rakyat yang dilahirkan di mana-mana negara diiktiraf sebagai warga Malayan Union\\nC. Seluruh rakyat yang dilahirkan di Tanah Melayu dan Singapura diiktiraf sebagai warga Malayan Union\\nD. Melayu sahaja diiktiraf sebagai warga Malayan Union', 'jawapan': 'C'}\n",
      "{'no': '6', 'soalan': 'Jawatankuasa Kerja ditubuhkan pada 25 Julai 1946. Apakah cadangan yang disarankan oleh jawatankuasa tersebut?\\nA. Menyatukan sesetengah negeri Melayu dalam satu pentadbiran\\nB. Menjaga kepentingan orang Melayu sahaja\\nC. Mengenakan syarat kewarganegaraan yang ketat\\nD. Menubuhkan Dewan Rakyat dan Dewan Negara', 'jawapan': 'C'}\n",
      "{'no': '7', 'soalan': 'Mengapakah Parti Komunis Indonesia (PKI) berusaha membuka cawangan mereka di Tanah Melayu?\\nA. Mengasaskan PKM\\nB. Menyusup kesatuan sekerja\\nC. Kegagalan menguasai Pulau Jawa\\nD. Mendapatkan sokongan orang Melayu', 'jawapan': 'C'}\n",
      "{'no': '8', 'soalan': 'Apakah pengertian kemerdekaan menurut Soekarno, Presiden Indonesia?\\nA. Bebas selama-lamanya\\nB. Perjuangan menghadapi penjajahan\\nC. Merangkumi politik, ekonomi dan moral\\nD. Membebaskan diri daripada penjajahan kuasa Barat', 'jawapan': 'A'}\n",
      "{'no': '9', 'soalan': 'Berbanding dengan raja di Negeri-negeri Melayu Bersekutu, kedudukan raja-raja di Negeri-negeri Melayu Tidak Bersekutu adalah lebih kukuh. Mengapakah hal demikian berlaku?\\nA. Raja berkuasa mutlak\\nB. Pentadbiran oleh pembesar Melayu\\nC. Pentadbiran tidak bersifat persekutuan\\nD. Undang-undang Tubuh Kerajaan dirujuk', 'jawapan': 'B'}\n",
      "{'no': '10', 'soalan': 'Rancangan Buku Hijau dilancarkan oleh Tun Abdul Razak Hussein pada 20 Disember 1974.\\nApakah objektif rancangan tersebut?\\nA. Menambah pendapatan rakyat\\nB. Menebus guna tanah pinggir hutan\\nC. Mewujudkan industri kecil dan sederhana\\nD. Menjayakan program pembangunan wilayah', 'jawapan': 'A'}\n",
      "{'no': '11', 'soalan': 'Maklumat berikut berkaitan wilayah di bawah pentadbiran Kesultanan Melayu Melaka.\\nPahang\\nKampar\\nInderagiri\\nKesultanan Melayu Melaka memperoleh wilayah tersebut melalui\\nA. perutusan\\nB. penaklukan\\nC. perkahwinan\\nD. perlindungan', 'jawapan': 'B'}\n",
      "{'no': '12', 'soalan': 'Liga Bangsa-Bangsa dibubarkan pada tahun 1946. Apakah peristiwa yang membawa kepada pembubaran tersebut ?\\nA. Perang Dunia Kedua\\nB. Penyatuan negara Itali\\nC. Kemerosotan kerajaan Jerman\\nD. Termeterai Perjanjian Versailles', 'jawapan': 'A'}\n",
      "{'no': '13', 'soalan': 'Dato’ Onn Jaafar telah dilantik sebagai Ahli Hal Ehwal Dalam Negeri Persekutuan Tanah Melayu. Apakah tanggungjawab beliau ?\\nA. Mendaftarkan kerakyatan\\nB. Menyelia perancangan bandar\\nC. Menyediakan kemudahan asas\\nD. Menyeragamkan sukatan pelajaran', 'jawapan': 'A'}\n",
      "{'no': '14', 'soalan': 'Apakah syarat untuk menjadi pengundi dalam pilihan raya ?\\nI Warganegara\\nII Lelaki dewasa\\nIII Fasih berbahasa Inggeris\\nIV Tinggal di Persekutuan Tanah Melayu\\nA. I dan II\\nB. I dan IV\\nC. II dan III\\nD. III dan IV', 'jawapan': 'B'}\n",
      "{'no': '15', 'soalan': 'Kabinet pertama Persekutuan Tanah Melayu telah dibentuk selepas Pilihan Raya Umum 1955. Apakah peranan kabinet ?\\nA. Melantik ketua negara\\nB. Menjalankan pilihan raya\\nC. Menggubal perlembagaan\\nD. Membincangkan soal kewangan', 'jawapan': 'D'}\n",
      "{'no': '16', 'soalan': 'Berdasarkan Perjanjian Persekutuan Tanah Melayu 1957, seseorang boleh menjadi warganegara Persekutuan Tanah Melayu melalui\\nA. pewarisan\\nB. perkahwinan\\nC. percantuman wilayah\\nD. penguatkuasaan undang-undang', 'jawapan': 'D'}\n",
      "{'no': '17', 'soalan': 'Pernyataan berikut berkaitan pengertian kemerdekaan.\\n\"Kedaulatan dan kekuatan sesebuah negara\\nadalah untuk membebaskan diri daripada\\npenjajah Barat\"\\nSiapakah yang mengemukakan pengertian tersebut ?\\nA. Rashid Rida\\nB. Nelson Mandela\\nC. Mahatma Gandhi\\nD. Presiden Soekarno', 'jawapan': 'A'}\n",
      "{'no': '18', 'soalan': 'Rancangan Buku Merah dilancarkan pada 25 Januari 1961.\\nApakah tujuan rancangan tersebut dilancarkan?\\nA. Memajukan sektor perindustrian\\nB. Membangunkan kemudahan asas\\nC. Memodenkan teknologi pertanian\\nD. Menyeragamkan sistem pentadbiran', 'jawapan': 'B'}\n",
      "{'no': '19', 'soalan': 'Peristiwa yang manakah mencetuskan konsep kedaulatan moden?\\nA. Revolusi Perancis\\nB. Perang Dunia Kedua\\nC. Kemerosotan Jerman\\nD. Penubuhan Liga Bangsa', 'jawapan': 'A'}\n",
      "{'no': '20', 'soalan': 'Mengapakah berlaku pindaan Perlembagaan Persekutuan pada tahun 1963?\\nA. Pemisahan Singapura\\nB. Pembentukan Malaysia\\nC. Mengukuhkan sistem beraja\\nD. Menjalankan pilihan raya umum', 'jawapan': 'B'}\n"
     ]
    }
   ],
   "source": [
    "\n",
    "data_folder = '/media/cybertron/fa54fcb6-b5e1-492e-978a-6389519c168a/llm-benchmarks/sejarah-spm/data/'\n",
    "with open(data_folder+ 'sejarah_spm') as fopen:\n",
    "    text = fopen.read()\n",
    "    \n",
    "    \n",
    "questions = []\n",
    "for t in text.split('no: ')[1:]:\n",
    "    t = t.strip()\n",
    "    no = t.split('\\n')[0]\n",
    "    soalan = t.split('soalan:')[1].split('jawapan:')[0].strip()\n",
    "    jawapan = t.split('jawapan: ')[1].split(',')[0].strip()\n",
    "    data = {\n",
    "        'no': no,\n",
    "        'soalan': soalan,\n",
    "        'jawapan': jawapan,\n",
    "    }\n",
    "    print(data)\n",
    "    questions.append(data)"
   ]
  },
  {
   "cell_type": "code",
   "execution_count": 7,
   "id": "363cad90",
   "metadata": {},
   "outputs": [],
   "source": [
    "arange = set(range(len(questions)))"
   ]
  },
  {
   "cell_type": "code",
   "execution_count": 8,
   "id": "87bc46c3",
   "metadata": {},
   "outputs": [],
   "source": [
    "def convert_prompt(row, answer = False):\n",
    "    if answer:\n",
    "        prompt = f\"\"\"\n",
    "soalan: {row['soalan']}\n",
    "jawapan: {row['jawapan']}\n",
    "    \"\"\"\n",
    "    else:\n",
    "        prompt = f\"\"\"\n",
    "soalan: {row['soalan']}\n",
    "jawapan:\n",
    "    \"\"\"\n",
    "    return prompt.strip()"
   ]
  },
  {
   "cell_type": "code",
   "execution_count": 9,
   "id": "72405b80",
   "metadata": {},
   "outputs": [],
   "source": [
    "def parse_llama_chat(messages):\n",
    "\n",
    "    system = messages[0]['content']\n",
    "    user_query = messages[-1]['content']\n",
    "\n",
    "    users, assistants = [], []\n",
    "    for q in messages[1:-1]:\n",
    "        if q['role'] == 'user':\n",
    "            users.append(q['content'])\n",
    "        elif q['role'] == 'assistant':\n",
    "            assistants.append(q['content'])\n",
    "\n",
    "    texts = [f'<s>[INST] <<SYS>>\\n{system}\\n<</SYS>>\\n\\n']\n",
    "    for u, a in zip(users, assistants):\n",
    "        texts.append(f'{u.strip()} [/INST] {a.strip()} </s><s>[INST] ')\n",
    "    texts.append(f'{user_query.strip()} [/INST]')\n",
    "    prompt = ''.join(texts).strip()\n",
    "    return prompt"
   ]
  },
  {
   "cell_type": "code",
   "execution_count": 10,
   "id": "59e46fdf",
   "metadata": {},
   "outputs": [
    {
     "name": "stdout",
     "output_type": "stream",
     "text": [
      "soalan: Bagaimanakah Raja dalam kerajaan Alam Melayu memperkukuhkan kedudukannya?\n",
      "A. Ketaatan rakyat kepada raja\n",
      "B. Rakyat dianggap suci\n",
      "C. Rakyat menyembah raja\n",
      "D. Raja menjalankan kerahan tenaga\n",
      "jawapan:\n"
     ]
    }
   ],
   "source": [
    "i = 1\n",
    "prompts = []\n",
    "\n",
    "prompts.append(convert_prompt(questions[i]))\n",
    "prompt = '\\n\\n'.join(prompts).strip()\n",
    "print(prompt)"
   ]
  },
  {
   "cell_type": "code",
   "execution_count": 11,
   "id": "76587ec9",
   "metadata": {},
   "outputs": [
    {
     "name": "stdout",
     "output_type": "stream",
     "text": [
      "prompt : <s>[INST] <<SYS>>\n",
      "awak adalah AI yang mampu jawab segala soalan\n",
      "<</SYS>>\n",
      "\n",
      "soalan: Bagaimanakah Raja dalam kerajaan Alam Melayu memperkukuhkan kedudukannya?\n",
      "A. Ketaatan rakyat kepada raja\n",
      "B. Rakyat dianggap suci\n",
      "C. Rakyat menyembah raja\n",
      "D. Raja menjalankan kerahan tenaga\n",
      "jawapan: [/INST]\n"
     ]
    },
    {
     "data": {
      "text/plain": [
       "{'input_ids': tensor([[    1,   518, 25580, 29962,  3532, 14816, 29903,  6778,    13,  1450,\n",
       "           557,   594,   284,   801,   319, 29902,   343,   574,   286,  1160,\n",
       "         29884,   432,  1450,   370,  2377,  2883,   577,   284,   273,    13,\n",
       "         29966,   829, 14816, 29903,  6778,    13,    13,   578,   284,   273,\n",
       "         29901,   350,  7781, 25895,   557,   801,   390,  9919,  2959,   314,\n",
       "         13023,  9919,   273,   838,   314,  6286,   388, 29884,  2626,   546,\n",
       "          2120,  2120, 29882, 11052,   413,   287,   566,  2679,   812,  3761,\n",
       "         29973,    13, 29909, 29889,   476,  1187, 23402,  1153,  3459,   271,\n",
       "           413,  1022,  1114,  1153,  1764,    13, 29933, 29889, 29350, 29891,\n",
       "           271,   652,   574, 29887,   481,   480,   455,    13, 29907, 29889,\n",
       "         29350, 29891,   271,  1757, 29891,  1590,   801,  1153,  1764,    13,\n",
       "         29928, 29889,   390,  9919,  1757, 12429,   804,   273, 13023,   801,\n",
       "           273,  3006,  7781,    13, 29926,  1450, 21419, 29901,   518, 29914,\n",
       "         25580, 29962]], device='cuda:0'), 'attention_mask': tensor([[1, 1, 1, 1, 1, 1, 1, 1, 1, 1, 1, 1, 1, 1, 1, 1, 1, 1, 1, 1, 1, 1, 1, 1,\n",
       "         1, 1, 1, 1, 1, 1, 1, 1, 1, 1, 1, 1, 1, 1, 1, 1, 1, 1, 1, 1, 1, 1, 1, 1,\n",
       "         1, 1, 1, 1, 1, 1, 1, 1, 1, 1, 1, 1, 1, 1, 1, 1, 1, 1, 1, 1, 1, 1, 1, 1,\n",
       "         1, 1, 1, 1, 1, 1, 1, 1, 1, 1, 1, 1, 1, 1, 1, 1, 1, 1, 1, 1, 1, 1, 1, 1,\n",
       "         1, 1, 1, 1, 1, 1, 1, 1, 1, 1, 1, 1, 1, 1, 1, 1, 1, 1, 1, 1, 1, 1, 1, 1,\n",
       "         1, 1, 1, 1, 1, 1, 1, 1, 1, 1, 1, 1]], device='cuda:0')}"
      ]
     },
     "execution_count": 11,
     "metadata": {},
     "output_type": "execute_result"
    }
   ],
   "source": [
    "messages = [\n",
    "    {'role': 'system', 'content': 'awak adalah AI yang mampu jawab segala soalan'},\n",
    "    {'role': 'user', 'content': prompt}\n",
    "]\n",
    "prompt = parse_llama_chat(messages)\n",
    "print(\"prompt :\",prompt)\n",
    "inputs = tokenizer([prompt], return_tensors='pt', add_special_tokens=False).to('cuda')\n",
    "inputs"
   ]
  },
  {
   "cell_type": "code",
   "execution_count": 12,
   "id": "3cab7e18",
   "metadata": {},
   "outputs": [
    {
     "name": "stdout",
     "output_type": "stream",
     "text": [
      "['[/INST]', 'A', '</s>']\n"
     ]
    }
   ],
   "source": [
    "generate_kwargs = dict(\n",
    "    inputs,\n",
    "    max_new_tokens=100,\n",
    "    top_p=0.95,\n",
    "    top_k=50,\n",
    "    temperature=0.1,\n",
    "    do_sample=True,\n",
    "    num_beams=1,\n",
    "    repetition_penalty=1.05,\n",
    ")\n",
    "r = model.generate(**generate_kwargs)\n",
    "print(tokenizer.decode(r[0]).split('jawapan:')[1].strip().split())"
   ]
  },
  {
   "cell_type": "code",
   "execution_count": 13,
   "id": "d013f7d1",
   "metadata": {},
   "outputs": [
    {
     "data": {
      "text/plain": [
       "'<s> [INST] <<SYS>>\\nawak adalah AI yang mampu jawab segala soalan\\n<</SYS>>\\n\\nsoalan: Bagaimanakah Raja dalam kerajaan Alam Melayu memperkukuhkan kedudukannya?\\nA. Ketaatan rakyat kepada raja\\nB. Rakyat dianggap suci\\nC. Rakyat menyembah raja\\nD. Raja menjalankan kerahan tenaga\\njawapan: [/INST] A </s>'"
      ]
     },
     "execution_count": 13,
     "metadata": {},
     "output_type": "execute_result"
    }
   ],
   "source": [
    "tokenizer.decode(r[0])"
   ]
  },
  {
   "cell_type": "code",
   "execution_count": 18,
   "id": "a02805aa",
   "metadata": {},
   "outputs": [
    {
     "name": "stderr",
     "output_type": "stream",
     "text": [
      "100%|█████████████████████████████████████████████████████████████████████████████████████████████████████████| 20/20 [00:39<00:00,  1.96s/it]\n"
     ]
    }
   ],
   "source": [
    "for i in tqdm(range(len(questions))):\n",
    "    \n",
    "    prompts = []\n",
    "    prompts.append(convert_prompt(questions[i]))\n",
    "    prompt = '\\n\\n'.join(prompts)\n",
    "    messages = [\n",
    "        {'role': 'system', 'content': 'awak adalah AI yang mampu jawab segala soalan'},\n",
    "        {'role': 'user', 'content': prompt}\n",
    "    ]\n",
    "    prompt = parse_llama_chat(messages)\n",
    "    # print(prompt)\n",
    "    # break\n",
    "    inputs = tokenizer([prompt], return_tensors='pt', add_special_tokens=False).to('cuda')\n",
    "    repeat = []\n",
    "    for _ in range(5):\n",
    "        try:\n",
    "            generate_kwargs = dict(\n",
    "                inputs,\n",
    "                max_new_tokens=100,\n",
    "                top_p=0.95,\n",
    "                top_k=50,\n",
    "                temperature=0.3,\n",
    "                do_sample=True,\n",
    "                num_beams=1,\n",
    "                repetition_penalty=1.05,\n",
    "            )\n",
    "            r = model.generate(**generate_kwargs)\n",
    "            splitted = tokenizer.decode(r[0]).split('[/INST]')[1].strip().replace('</s>', '').replace('.', '').replace(',', '').strip().split()\n",
    "            splitted = [t for t in splitted if len(t) == 1]\n",
    "            repeat.append(splitted[0])\n",
    "    \n",
    "        except Exception as e:\n",
    "            pass\n",
    "    \n",
    "    questions[i]['output'] = repeat"
   ]
  },
  {
   "cell_type": "code",
   "execution_count": 15,
   "id": "c7b84ee9",
   "metadata": {},
   "outputs": [],
   "source": [
    "def most_common(l):\n",
    "    return max(set(l), key=l.count)"
   ]
  },
  {
   "cell_type": "code",
   "execution_count": 16,
   "id": "b7be72e1",
   "metadata": {},
   "outputs": [
    {
     "data": {
      "text/plain": [
       "50.0"
      ]
     },
     "execution_count": 16,
     "metadata": {},
     "output_type": "execute_result"
    }
   ],
   "source": [
    "filtered = [q for q in questions if 'output' in q and len(q['output'])]\n",
    "correct = 0\n",
    "for q in filtered:\n",
    "    correct += most_common(q['output']) == q['jawapan']\n",
    "(correct / len(filtered)) * 100"
   ]
  },
  {
   "cell_type": "code",
   "execution_count": null,
   "id": "72ccb275-83be-417d-b5a6-322c8eb6ccee",
   "metadata": {},
   "outputs": [],
   "source": []
  }
 ],
 "metadata": {
  "kernelspec": {
   "display_name": "Python 3 (ipykernel)",
   "language": "python",
   "name": "python3"
  },
  "language_info": {
   "codemirror_mode": {
    "name": "ipython",
    "version": 3
   },
   "file_extension": ".py",
   "mimetype": "text/x-python",
   "name": "python",
   "nbconvert_exporter": "python",
   "pygments_lexer": "ipython3",
   "version": "3.10.13"
  }
 },
 "nbformat": 4,
 "nbformat_minor": 5
}
