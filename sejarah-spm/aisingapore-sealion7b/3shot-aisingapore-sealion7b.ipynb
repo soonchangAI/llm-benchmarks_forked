{
 "cells": [
  {
   "cell_type": "code",
   "execution_count": 1,
   "id": "0746741b",
   "metadata": {},
   "outputs": [],
   "source": [
    "# !wget https://raw.githubusercontent.com/mesolitica/malaysian-dataset/master/llm-benchmark/BM-pt3/BM-A-pt3"
   ]
  },
  {
   "cell_type": "code",
   "execution_count": 2,
   "id": "c5e2f8e8",
   "metadata": {},
   "outputs": [],
   "source": [
    "# !pip3 install transformers==4.34.1"
   ]
  },
  {
   "cell_type": "code",
   "execution_count": 3,
   "id": "b6d200e3",
   "metadata": {},
   "outputs": [
    {
     "name": "stderr",
     "output_type": "stream",
     "text": [
      "/home/cybertron/anaconda3/envs/sealion/lib/python3.10/site-packages/tqdm/auto.py:21: TqdmWarning: IProgress not found. Please update jupyter and ipywidgets. See https://ipywidgets.readthedocs.io/en/stable/user_install.html\n",
      "  from .autonotebook import tqdm as notebook_tqdm\n",
      "The model weights are not tied. Please use the `tie_weights` method before using the `infer_auto_device` function.\n",
      "Loading checkpoint shards: 100%|████████████████████████████████████████████████████████████████████████████████| 2/2 [00:05<00:00,  2.53s/it]\n"
     ]
    }
   ],
   "source": [
    "from transformers import AutoTokenizer, AutoModelForCausalLM\n",
    "import torch\n",
    "\n",
    "# tokenizer = AutoTokenizer.from_pretrained('aisingapore/sealion7b', trust_remote_code = True)\n",
    "# model = AutoModelForCausalLM.from_pretrained(\n",
    "#     'aisingapore/sealion7b',\n",
    "#     trust_remote_code = True,\n",
    "#     torch_dtype = torch.float16,\n",
    "#     device_map=\"cuda:0\"\n",
    "# )\n",
    "tokenizer = AutoTokenizer.from_pretrained('aisingapore/sealion7b', trust_remote_code = True)\n",
    "model = AutoModelForCausalLM.from_pretrained(\n",
    "    'aisingapore/sealion7b',\n",
    "    trust_remote_code = True,\n",
    "    torch_dtype = torch.float16,\n",
    "    device_map=\"auto\"\n",
    ")"
   ]
  },
  {
   "cell_type": "code",
   "execution_count": 4,
   "id": "7d16b8ef",
   "metadata": {},
   "outputs": [],
   "source": [
    "from tqdm import tqdm\n",
    "import os\n",
    "import random\n",
    "torch.manual_seed(404)\n",
    "random.seed(404)"
   ]
  },
  {
   "cell_type": "code",
   "execution_count": 5,
   "id": "a06177bd",
   "metadata": {},
   "outputs": [
    {
     "name": "stdout",
     "output_type": "stream",
     "text": [
      "{'no': '1', 'soalan': 'Apakah yang dimaksudkan dengan wilayah pengaruh?\\nA. Kawasan tanah jajahan dan takluk raja\\nB. Kawasan yang dinaungi oleh raja dan kerabatnya\\nC. Kawasan yang rakyatnya menerima dan memperakui pemerintahan seseorang raja\\nD. Kawasan yang rakyatnya menganggap raja sebagai tuhan atau wakil tuhan', 'jawapan': 'C'}\n",
      "\n",
      "{'no': '2', 'soalan': 'Bagaimanakah Raja dalam kerajaan Alam Melayu memperkukuhkan kedudukannya?\\nA. Ketaatan rakyat kepada raja\\nB. Rakyat dianggap suci\\nC. Rakyat menyembah raja\\nD. Raja menjalankan kerahan tenaga', 'jawapan': 'A'}\n",
      "\n",
      "{'no': '3', 'soalan': 'Apakah faktor perbezaan idea nasionalisme antara negara dengan zaman?\\nA. Politik\\nB. Darjat\\nC. Keturunan\\nD. Ekonomi', 'jawapan': 'C'}\n",
      "\n",
      "{'no': '4', 'soalan': \"Maklumat berikut berkaitan dengan pendapat tokoh mengenai nasionalisme. \\nKita hendak menzahirkan suatu bangsa yang lebih tegap dan kuat, boleh\\nberdiri di atas tapak kaki kita sendiri dan mengambil tempat kita yang\\nsebenar di sisi bangsa-bangsa lain. Siapakah tokoh yang memberikan tafsiran nasionalisme tersebut?\\nA. Dato' Onn Jaafar\\nB. Dr. R. Suntharalingam\\nC. Dr. Burhanuddin al-Helmi\\nD. Profesor William R. Roff\", 'jawapan': 'A'}\n",
      "\n",
      "{'no': '5', 'soalan': 'Apakah inti pati syarat kewarganegaraan mengikut prinsip jus soli?\\nA. Seluruh rakyat yang dilahirkan di Britain diiktiraf sebagai warga Malayan Union\\nB. Seluruh rakyat yang dilahirkan di mana-mana negara diiktiraf sebagai warga Malayan Union\\nC. Seluruh rakyat yang dilahirkan di Tanah Melayu dan Singapura diiktiraf sebagai warga Malayan Union\\nD. Melayu sahaja diiktiraf sebagai warga Malayan Union', 'jawapan': 'C'}\n",
      "\n",
      "{'no': '6', 'soalan': 'Jawatankuasa Kerja ditubuhkan pada 25 Julai 1946. Apakah cadangan yang disarankan oleh jawatankuasa tersebut?\\nA. Menyatukan sesetengah negeri Melayu dalam satu pentadbiran\\nB. Menjaga kepentingan orang Melayu sahaja\\nC. Mengenakan syarat kewarganegaraan yang ketat\\nD. Menubuhkan Dewan Rakyat dan Dewan Negara', 'jawapan': 'C'}\n",
      "\n",
      "{'no': '7', 'soalan': 'Mengapakah Parti Komunis Indonesia (PKI) berusaha membuka cawangan mereka di Tanah Melayu?\\nA. Mengasaskan PKM\\nB. Menyusup kesatuan sekerja\\nC. Kegagalan menguasai Pulau Jawa\\nD. Mendapatkan sokongan orang Melayu', 'jawapan': 'C'}\n",
      "\n",
      "{'no': '8', 'soalan': 'Apakah pengertian kemerdekaan menurut Soekarno, Presiden Indonesia?\\nA. Bebas selama-lamanya\\nB. Perjuangan menghadapi penjajahan\\nC. Merangkumi politik, ekonomi dan moral\\nD. Membebaskan diri daripada penjajahan kuasa Barat', 'jawapan': 'A'}\n",
      "\n",
      "{'no': '9', 'soalan': 'Berbanding dengan raja di Negeri-negeri Melayu Bersekutu, kedudukan raja-raja di Negeri-negeri Melayu Tidak Bersekutu adalah lebih kukuh. Mengapakah hal demikian berlaku?\\nA. Raja berkuasa mutlak\\nB. Pentadbiran oleh pembesar Melayu\\nC. Pentadbiran tidak bersifat persekutuan\\nD. Undang-undang Tubuh Kerajaan dirujuk', 'jawapan': 'B'}\n",
      "\n",
      "{'no': '10', 'soalan': 'Rancangan Buku Hijau dilancarkan oleh Tun Abdul Razak Hussein pada 20 Disember 1974.\\nApakah objektif rancangan tersebut?\\nA. Menambah pendapatan rakyat\\nB. Menebus guna tanah pinggir hutan\\nC. Mewujudkan industri kecil dan sederhana\\nD. Menjayakan program pembangunan wilayah', 'jawapan': 'A'}\n",
      "\n",
      "{'no': '11', 'soalan': 'Maklumat berikut berkaitan wilayah di bawah pentadbiran Kesultanan Melayu Melaka.\\nPahang\\nKampar\\nInderagiri\\nKesultanan Melayu Melaka memperoleh wilayah tersebut melalui\\nA. perutusan\\nB. penaklukan\\nC. perkahwinan\\nD. perlindungan', 'jawapan': 'B'}\n",
      "\n",
      "{'no': '12', 'soalan': 'Liga Bangsa-Bangsa dibubarkan pada tahun 1946. Apakah peristiwa yang membawa kepada pembubaran tersebut ?\\nA. Perang Dunia Kedua\\nB. Penyatuan negara Itali\\nC. Kemerosotan kerajaan Jerman\\nD. Termeterai Perjanjian Versailles', 'jawapan': 'A'}\n",
      "\n",
      "{'no': '13', 'soalan': 'Dato’ Onn Jaafar telah dilantik sebagai Ahli Hal Ehwal Dalam Negeri Persekutuan Tanah Melayu. Apakah tanggungjawab beliau ?\\nA. Mendaftarkan kerakyatan\\nB. Menyelia perancangan bandar\\nC. Menyediakan kemudahan asas\\nD. Menyeragamkan sukatan pelajaran', 'jawapan': 'A'}\n",
      "\n",
      "{'no': '14', 'soalan': 'Apakah syarat untuk menjadi pengundi dalam pilihan raya ?\\nI Warganegara\\nII Lelaki dewasa\\nIII Fasih berbahasa Inggeris\\nIV Tinggal di Persekutuan Tanah Melayu\\nA. I dan II\\nB. I dan IV\\nC. II dan III\\nD. III dan IV', 'jawapan': 'B'}\n",
      "\n",
      "{'no': '15', 'soalan': 'Kabinet pertama Persekutuan Tanah Melayu telah dibentuk selepas Pilihan Raya Umum 1955. Apakah peranan kabinet ?\\nA. Melantik ketua negara\\nB. Menjalankan pilihan raya\\nC. Menggubal perlembagaan\\nD. Membincangkan soal kewangan', 'jawapan': 'D'}\n",
      "\n",
      "{'no': '16', 'soalan': 'Berdasarkan Perjanjian Persekutuan Tanah Melayu 1957, seseorang boleh menjadi warganegara Persekutuan Tanah Melayu melalui\\nA. pewarisan\\nB. perkahwinan\\nC. percantuman wilayah\\nD. penguatkuasaan undang-undang', 'jawapan': 'D'}\n",
      "\n",
      "{'no': '17', 'soalan': 'Pernyataan berikut berkaitan pengertian kemerdekaan.\\n\"Kedaulatan dan kekuatan sesebuah negara\\nadalah untuk membebaskan diri daripada\\npenjajah Barat\"\\nSiapakah yang mengemukakan pengertian tersebut ?\\nA. Rashid Rida\\nB. Nelson Mandela\\nC. Mahatma Gandhi\\nD. Presiden Soekarno', 'jawapan': 'A'}\n",
      "\n",
      "{'no': '18', 'soalan': 'Rancangan Buku Merah dilancarkan pada 25 Januari 1961.\\nApakah tujuan rancangan tersebut dilancarkan?\\nA. Memajukan sektor perindustrian\\nB. Membangunkan kemudahan asas\\nC. Memodenkan teknologi pertanian\\nD. Menyeragamkan sistem pentadbiran', 'jawapan': 'B'}\n",
      "\n",
      "{'no': '19', 'soalan': 'Peristiwa yang manakah mencetuskan konsep kedaulatan moden?\\nA. Revolusi Perancis\\nB. Perang Dunia Kedua\\nC. Kemerosotan Jerman\\nD. Penubuhan Liga Bangsa', 'jawapan': 'A'}\n",
      "\n",
      "{'no': '20', 'soalan': 'Mengapakah berlaku pindaan Perlembagaan Persekutuan pada tahun 1963?\\nA. Pemisahan Singapura\\nB. Pembentukan Malaysia\\nC. Mengukuhkan sistem beraja\\nD. Menjalankan pilihan raya umum', 'jawapan': 'B'}\n",
      "\n"
     ]
    }
   ],
   "source": [
    "\n",
    "data_folder = '/media/cybertron/fa54fcb6-b5e1-492e-978a-6389519c168a/llm-benchmarks/sejarah-spm/data/'\n",
    "with open(data_folder+ 'sejarah_spm') as fopen:\n",
    "    text = fopen.read()\n",
    "    \n",
    "questions = []\n",
    "for t in text.split('no: ')[1:]:\n",
    "    t = t.strip()\n",
    "    no = t.split('\\n')[0]\n",
    "    #objektif = t.split('objektif: ')[1].split('\\n')[0]\n",
    "    soalan = t.split('soalan:')[1].split('jawapan:')[0].strip()\n",
    "    jawapan = t.split('jawapan: ')[1].split(',')[0].strip()\n",
    "    data = {\n",
    "        'no': no,\n",
    "        'soalan': soalan,\n",
    "        'jawapan': jawapan,\n",
    "    }\n",
    "    questions.append(data)\n",
    "    print(data)\n",
    "    print()"
   ]
  },
  {
   "cell_type": "code",
   "execution_count": 6,
   "id": "363cad90",
   "metadata": {},
   "outputs": [],
   "source": [
    "arange = set(range(len(questions)))"
   ]
  },
  {
   "cell_type": "code",
   "execution_count": 7,
   "id": "87bc46c3",
   "metadata": {},
   "outputs": [],
   "source": [
    "def convert_prompt(row, answer = False):\n",
    "    if answer:\n",
    "        prompt = f\"\"\"\n",
    "soalan: {row['soalan']}\n",
    "jawapan: {row['jawapan']}\n",
    "    \"\"\"\n",
    "    else:\n",
    "        prompt = f\"\"\"\n",
    "soalan: {row['soalan']}\n",
    "jawapan:\n",
    "    \"\"\"\n",
    "    return prompt.strip()"
   ]
  },
  {
   "cell_type": "code",
   "execution_count": 8,
   "id": "59e46fdf",
   "metadata": {},
   "outputs": [
    {
     "name": "stdout",
     "output_type": "stream",
     "text": [
      "soalan: Bagaimanakah Raja dalam kerajaan Alam Melayu memperkukuhkan kedudukannya?\n",
      "A. Ketaatan rakyat kepada raja\n",
      "B. Rakyat dianggap suci\n",
      "C. Rakyat menyembah raja\n",
      "D. Raja menjalankan kerahan tenaga\n",
      "jawapan:\n"
     ]
    }
   ],
   "source": [
    "i = 1\n",
    "prompts = []\n",
    "\n",
    "prompts.append(convert_prompt(questions[i]))\n",
    "prompt = '\\n\\n'.join(prompts).strip()\n",
    "print(prompt)"
   ]
  },
  {
   "cell_type": "code",
   "execution_count": 9,
   "id": "d4af3093",
   "metadata": {},
   "outputs": [
    {
     "data": {
      "text/plain": [
       "{'input_ids': tensor([[128148, 249853,   9939,  42675,  15095,  58969,   3294,  39014,  43961,\n",
       "          69503, 107003,    852,  13500, 104857,   1905, 249905,      4, 249843,\n",
       "         249835,    532,  13619,   4770,  48510,   9606, 149315,      4, 249850,\n",
       "         249835,  90172,  48501,  10666, 249819,      4, 249844, 249835,  90172,\n",
       "          83663,    626, 149315,      4, 249852, 249835,  58969,  34964,   7448,\n",
       "           5704,  51830,      4,  64068,   3329, 249853]], device='cuda:0'), 'token_type_ids': tensor([[0, 0, 0, 0, 0, 0, 0, 0, 0, 0, 0, 0, 0, 0, 0, 0, 0, 0, 0, 0, 0, 0, 0, 0,\n",
       "         0, 0, 0, 0, 0, 0, 0, 0, 0, 0, 0, 0, 0, 0, 0, 0, 0, 0, 0, 0, 0, 0, 0, 0,\n",
       "         0, 0, 0]], device='cuda:0'), 'attention_mask': tensor([[1, 1, 1, 1, 1, 1, 1, 1, 1, 1, 1, 1, 1, 1, 1, 1, 1, 1, 1, 1, 1, 1, 1, 1,\n",
       "         1, 1, 1, 1, 1, 1, 1, 1, 1, 1, 1, 1, 1, 1, 1, 1, 1, 1, 1, 1, 1, 1, 1, 1,\n",
       "         1, 1, 1]], device='cuda:0')}"
      ]
     },
     "execution_count": 9,
     "metadata": {},
     "output_type": "execute_result"
    }
   ],
   "source": [
    "inputs = tokenizer([prompt], return_tensors='pt', add_special_tokens=False).to('cuda')\n",
    "inputs"
   ]
  },
  {
   "cell_type": "code",
   "execution_count": 10,
   "id": "9b275593",
   "metadata": {},
   "outputs": [
    {
     "data": {
      "text/plain": [
       "tensor([[0, 0, 0, 0, 0, 0, 0, 0, 0, 0, 0, 0, 0, 0, 0, 0, 0, 0, 0, 0, 0, 0, 0, 0,\n",
       "         0, 0, 0, 0, 0, 0, 0, 0, 0, 0, 0, 0, 0, 0, 0, 0, 0, 0, 0, 0, 0, 0, 0, 0,\n",
       "         0, 0, 0]], device='cuda:0')"
      ]
     },
     "execution_count": 10,
     "metadata": {},
     "output_type": "execute_result"
    }
   ],
   "source": [
    "inputs.pop('token_type_ids', None)"
   ]
  },
  {
   "cell_type": "code",
   "execution_count": 11,
   "id": "3cab7e18",
   "metadata": {},
   "outputs": [
    {
     "name": "stdout",
     "output_type": "stream",
     "text": [
      "['1.']\n"
     ]
    }
   ],
   "source": [
    "generate_kwargs = dict(\n",
    "    inputs,\n",
    "    max_new_tokens=3,\n",
    "    top_p=0.95,\n",
    "    top_k=50,\n",
    "    temperature=0.1,\n",
    "    do_sample=True,\n",
    "    num_beams=1,\n",
    "    repetition_penalty=1.05,\n",
    ")\n",
    "r = model.generate(**generate_kwargs)\n",
    "print(tokenizer.decode(r[0]).split('jawapan:')[1].strip().split())"
   ]
  },
  {
   "cell_type": "code",
   "execution_count": 16,
   "id": "a02805aa",
   "metadata": {},
   "outputs": [
    {
     "name": "stderr",
     "output_type": "stream",
     "text": [
      "  0%|                                                                                                                  | 0/20 [00:00<?, ?it/s]/tmp/ipykernel_22018/2190211999.py:3: DeprecationWarning: Sampling from a set deprecated\n",
      "since Python 3.9 and will be removed in a subsequent version.\n",
      "  shots = random.sample(arange - {i}, 3)\n",
      "  0%|                                                                                                                  | 0/20 [00:00<?, ?it/s]"
     ]
    },
    {
     "name": "stdout",
     "output_type": "stream",
     "text": [
      "Contoh soalan 1\n",
      "soalan: Apakah faktor perbezaan idea nasionalisme antara negara dengan zaman?\n",
      "A. Politik\n",
      "B. Darjat\n",
      "C. Keturunan\n",
      "D. Ekonomi\n",
      "jawapan: C\n",
      "\n",
      "Contoh soalan 2\n",
      "soalan: Jawatankuasa Kerja ditubuhkan pada 25 Julai 1946. Apakah cadangan yang disarankan oleh jawatankuasa tersebut?\n",
      "A. Menyatukan sesetengah negeri Melayu dalam satu pentadbiran\n",
      "B. Menjaga kepentingan orang Melayu sahaja\n",
      "C. Mengenakan syarat kewarganegaraan yang ketat\n",
      "D. Menubuhkan Dewan Rakyat dan Dewan Negara\n",
      "jawapan: C\n",
      "\n",
      "Contoh soalan 3\n",
      "soalan: Dato’ Onn Jaafar telah dilantik sebagai Ahli Hal Ehwal Dalam Negeri Persekutuan Tanah Melayu. Apakah tanggungjawab beliau ?\n",
      "A. Mendaftarkan kerakyatan\n",
      "B. Menyelia perancangan bandar\n",
      "C. Menyediakan kemudahan asas\n",
      "D. Menyeragamkan sukatan pelajaran\n",
      "jawapan: A\n",
      "\n",
      "soalan: Apakah yang dimaksudkan dengan wilayah pengaruh?\n",
      "A. Kawasan tanah jajahan dan takluk raja\n",
      "B. Kawasan yang dinaungi oleh raja dan kerabatnya\n",
      "C. Kawasan yang rakyatnya menerima dan memperakui pemerintahan seseorang raja\n",
      "D. Kawasan yang rakyatnya menganggap raja sebagai tuhan atau wakil tuhan\n",
      "jawapan:\n"
     ]
    },
    {
     "name": "stderr",
     "output_type": "stream",
     "text": [
      "\n"
     ]
    }
   ],
   "source": [
    "for i in tqdm(range(len(questions))):\n",
    "    \n",
    "    shots = random.sample(arange - {i}, 3)\n",
    "    prompts = []\n",
    "    for no, s in enumerate(shots):\n",
    "        prompts.append(f'Contoh soalan {no + 1}\\n' + convert_prompt(questions[s], answer = True))\n",
    "\n",
    "    prompts.append(convert_prompt(questions[i]))\n",
    "    prompt = '\\n\\n'.join(prompts)\n",
    "    # print(prompt)\n",
    "    # break\n",
    "    inputs = tokenizer([prompt], return_tensors='pt', add_special_tokens=False).to('cuda')\n",
    "    inputs.pop('token_type_ids', None)\n",
    "    repeat = []\n",
    "    for _ in range(5):\n",
    "        try:\n",
    "            generate_kwargs = dict(\n",
    "                inputs,\n",
    "                max_new_tokens=3,\n",
    "                top_p=0.95,\n",
    "                top_k=50,\n",
    "                temperature=0.5,\n",
    "                do_sample=True,\n",
    "                num_beams=1,\n",
    "                repetition_penalty=1.05,\n",
    "            )\n",
    "            r = model.generate(**generate_kwargs)\n",
    "            r = tokenizer.decode(r[0]).split('jawapan:')[-1].strip().split()\n",
    "            repeat.append(r[0].replace('.', '').replace('</s>', '').split('\\\\')[0].split('/')[0])\n",
    "    \n",
    "        except Exception as e:\n",
    "            print(e)\n",
    "            pass\n",
    "    \n",
    "    questions[i]['output'] = repeat"
   ]
  },
  {
   "cell_type": "code",
   "execution_count": 13,
   "id": "93d03206",
   "metadata": {},
   "outputs": [],
   "source": [
    "import json\n",
    "\n",
    "with open('output-3shot-aisingapore-sealion7b.json', 'w') as fopen:\n",
    "    json.dump(questions, fopen)"
   ]
  },
  {
   "cell_type": "code",
   "execution_count": 14,
   "id": "c7b84ee9",
   "metadata": {},
   "outputs": [],
   "source": [
    "def most_common(l):\n",
    "    return max(set(l), key=l.count)"
   ]
  },
  {
   "cell_type": "code",
   "execution_count": 15,
   "id": "b7be72e1",
   "metadata": {},
   "outputs": [
    {
     "data": {
      "text/plain": [
       "20.0"
      ]
     },
     "execution_count": 15,
     "metadata": {},
     "output_type": "execute_result"
    }
   ],
   "source": [
    "filtered = [q for q in questions if 'output' in q]\n",
    "correct = 0\n",
    "for q in filtered:\n",
    "    correct += most_common(q['output']) == q['jawapan']\n",
    "(correct / len(filtered)) * 100"
   ]
  }
 ],
 "metadata": {
  "kernelspec": {
   "display_name": "Python 3 (ipykernel)",
   "language": "python",
   "name": "python3"
  },
  "language_info": {
   "codemirror_mode": {
    "name": "ipython",
    "version": 3
   },
   "file_extension": ".py",
   "mimetype": "text/x-python",
   "name": "python",
   "nbconvert_exporter": "python",
   "pygments_lexer": "ipython3",
   "version": "3.10.13"
  }
 },
 "nbformat": 4,
 "nbformat_minor": 5
}
