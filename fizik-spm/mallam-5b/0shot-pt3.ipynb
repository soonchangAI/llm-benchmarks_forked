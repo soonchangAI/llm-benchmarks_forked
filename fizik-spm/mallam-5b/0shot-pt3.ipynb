{
 "cells": [
  {
   "cell_type": "markdown",
   "id": "87323c74-8760-41b6-b593-a88c7cf11aa0",
   "metadata": {},
   "source": [
    "!wget https://raw.githubusercontent.com/mesolitica/malaysian-dataset/master/llm-benchmark/BM-pt3/BM-A-pt3"
   ]
  },
  {
   "cell_type": "code",
   "execution_count": 1,
   "id": "2f120f40",
   "metadata": {},
   "outputs": [],
   "source": [
    "import os\n",
    "\n",
    "# os.environ['CUDA_VISIBLE_DEVICES'] = '0'"
   ]
  },
  {
   "cell_type": "code",
   "execution_count": 2,
   "id": "f4913978",
   "metadata": {},
   "outputs": [
    {
     "name": "stderr",
     "output_type": "stream",
     "text": [
      "/home/cybertron/anaconda3/envs/sgpt/lib/python3.10/site-packages/tqdm/auto.py:21: TqdmWarning: IProgress not found. Please update jupyter and ipywidgets. See https://ipywidgets.readthedocs.io/en/stable/user_install.html\n",
      "  from .autonotebook import tqdm as notebook_tqdm\n",
      "Loading checkpoint shards: 100%|██████████████████| 3/3 [00:03<00:00,  1.09s/it]\n"
     ]
    }
   ],
   "source": [
    "from transformers import AutoTokenizer, AutoModelForCausalLM\n",
    "import torch\n",
    "#mesolitica/malaysian-llama2-7b-32k-instructions-v2\n",
    "tokenizer = AutoTokenizer.from_pretrained('mesolitica/mallam-5B-4096')\n",
    "# model = AutoModelForCausalLM.from_pretrained(\n",
    "#     'fpf-7b-instructions-16k-call-v2/checkpoint-9300', \n",
    "#     use_flash_attention_2 = True, \n",
    "#     torch_dtype = torch.float16,\n",
    "#     device_map=\"cuda:0\"\n",
    "# )\n",
    "\n",
    "model = AutoModelForCausalLM.from_pretrained(\n",
    "    'mesolitica/mallam-5B-4096', \n",
    "    #use_flash_attention_2 = True, \n",
    "    torch_dtype = torch.float16,\n",
    "    device_map=\"auto\"\n",
    ")"
   ]
  },
  {
   "cell_type": "code",
   "execution_count": 3,
   "id": "69b595ba",
   "metadata": {},
   "outputs": [
    {
     "data": {
      "text/plain": [
       "<torch._C.Generator at 0x7f9e0e881c50>"
      ]
     },
     "execution_count": 3,
     "metadata": {},
     "output_type": "execute_result"
    }
   ],
   "source": [
    "from tqdm import tqdm\n",
    "import os\n",
    "import random\n",
    "import json\n",
    "random.seed(404)\n",
    "torch.manual_seed(404)"
   ]
  },
  {
   "cell_type": "markdown",
   "id": "9e95823d-6921-49bd-b336-42c13468b5dc",
   "metadata": {},
   "source": [
    "data_folder = '/media/cybertron/fa54fcb6-b5e1-492e-978a-6389519c168a/llm-benchmarks/BM-PT3/data/'\n",
    "with open(data_folder + 'BM-A-pt3') as fopen:\n",
    "    text = fopen.read()\n",
    "print(text.split('no: '))"
   ]
  },
  {
   "cell_type": "code",
   "execution_count": 4,
   "id": "7b8b065c",
   "metadata": {},
   "outputs": [],
   "source": [
    "data_folder = '/media/cybertron/fa54fcb6-b5e1-492e-978a-6389519c168a/llm-benchmarks/fizik-spm/data/'\n",
    "with open(data_folder+ 'fizik') as fopen:\n",
    "    text = fopen.read()\n",
    "    \n",
    "    \n",
    "questions = []\n",
    "for t in text.split('no: ')[1:]: # split by \"no\"\n",
    "    t = t.strip()\n",
    "    no = t.split('\\n')[0] # \"split by newline to get index'\n",
    "    soalan = t.split('soalan:')[1].split('jawapan:')[0].strip()\n",
    "    jawapan = t.split('jawapan: ')[1].split(',')[0].strip()\n",
    "    data = {\n",
    "        'no': no,\n",
    "        'soalan': soalan,\n",
    "        'jawapan': jawapan,\n",
    "    }\n",
    "    questions.append(data)"
   ]
  },
  {
   "cell_type": "code",
   "execution_count": 5,
   "id": "d956f1ba-f570-4233-81e7-e6cefa5c00ef",
   "metadata": {},
   "outputs": [
    {
     "data": {
      "text/plain": [
       "{'no': '1',\n",
       " 'soalan': 'Antara yang berikut, yang manakah kuantiti vektor?\\nA. Tenaga\\nB. Jisim\\nC. Daya\\nD. Laju',\n",
       " 'jawapan': 'C'}"
      ]
     },
     "execution_count": 5,
     "metadata": {},
     "output_type": "execute_result"
    }
   ],
   "source": [
    "questions[0]"
   ]
  },
  {
   "cell_type": "code",
   "execution_count": 6,
   "id": "0fa9b493",
   "metadata": {},
   "outputs": [
    {
     "name": "stdout",
     "output_type": "stream",
     "text": [
      "{0, 1, 2, 3, 4, 5, 6, 7, 8, 9, 10, 11, 12, 13, 14, 15, 16, 17, 18, 19}\n"
     ]
    }
   ],
   "source": [
    "arange = set(range(len(questions)))\n",
    "print(arange)"
   ]
  },
  {
   "cell_type": "code",
   "execution_count": 7,
   "id": "1ddc8579",
   "metadata": {},
   "outputs": [],
   "source": [
    "def convert_prompt(row, answer = False): # convert question to prompt \n",
    "    if answer: # include answer in prompt\n",
    "        prompt = f\"\"\" \n",
    "soalan: {row['soalan']}\n",
    "jawapan: {row['jawapan']}\n",
    "    \"\"\"\n",
    "    else: # do not include answer in prompt\n",
    "        prompt = f\"\"\"\n",
    "soalan: {row['soalan']}\n",
    "jawapan:\n",
    "    \"\"\"\n",
    "    return prompt.strip()\n",
    "\n",
    "def parse_mistral_chat(messages):\n",
    "\n",
    "    user_query = messages[-1]['content']\n",
    "\n",
    "    users, assistants = [], []\n",
    "    for q in messages[:-1]:\n",
    "        if q['role'] == 'user':\n",
    "            users.append(q['content'])\n",
    "        elif q['role'] == 'assistant':\n",
    "            assistants.append(q['content'])\n",
    "\n",
    "    texts = ['<s>']\n",
    "    for u, a in zip(users, assistants):\n",
    "        texts.append(f'[INST] {u.strip()} [/INST]{a.strip()}</s> ')\n",
    "\n",
    "    texts.append(f'[INST] {user_query.strip()} [/INST]')\n",
    "    prompt = ''.join(texts).strip()\n",
    "    return prompt"
   ]
  },
  {
   "cell_type": "code",
   "execution_count": 11,
   "id": "2b0a6c8a",
   "metadata": {},
   "outputs": [
    {
     "name": "stderr",
     "output_type": "stream",
     "text": [
      "  0%|                                                    | 0/20 [00:00<?, ?it/s]"
     ]
    },
    {
     "name": "stdout",
     "output_type": "stream",
     "text": [
      "<s>[INST] soalan: Antara yang berikut, yang manakah kuantiti vektor?\n",
      "A. Tenaga\n",
      "B. Jisim\n",
      "C. Daya\n",
      "D. Laju\n",
      "jawapan: [/INST]\n"
     ]
    },
    {
     "name": "stderr",
     "output_type": "stream",
     "text": [
      "\n"
     ]
    }
   ],
   "source": [
    "for i in tqdm(range(len(questions))):\n",
    "    \n",
    "    prompts = []\n",
    "    prompts.append(convert_prompt(questions[i])) # convert the question to prompt\n",
    "    prompt = '\\n\\n'.join(prompts)\n",
    "    messages = [\n",
    "        {'role': 'user', 'content': prompt}\n",
    "    ]\n",
    "    prompt = parse_mistral_chat(messages)\n",
    "    print(prompt)\n",
    "    break\n",
    "    inputs = tokenizer([prompt], return_tensors='pt', add_special_tokens=False).to('cuda') # get input ids \n",
    "    repeat = []\n",
    "    for _ in range(5): # for each question repeat 5 times\n",
    "        try:\n",
    "            generate_kwargs = dict(\n",
    "                inputs,\n",
    "                max_new_tokens=50,\n",
    "                top_p=0.95,\n",
    "                top_k=50,\n",
    "                temperature=0.9,\n",
    "                do_sample=True,\n",
    "                num_beams=1,\n",
    "                repetition_penalty=1.05,\n",
    "            )\n",
    "            r = model.generate(**generate_kwargs)\n",
    "            splitted = tokenizer.decode(r[0]).split('[/INST]')[1].strip().replace('</s>', '').replace('.', '').replace(',', '').strip().split()\n",
    "            splitted = [t for t in splitted if len(t) == 1 and t in {'A', 'B', 'C', 'D'}]\n",
    "            repeat.append(splitted[0])\n",
    "    \n",
    "        except Exception as e:\n",
    "            pass\n",
    "    \n",
    "    questions[i]['output'] = repeat"
   ]
  },
  {
   "cell_type": "code",
   "execution_count": 9,
   "id": "2f78c1e3",
   "metadata": {},
   "outputs": [],
   "source": [
    "def most_common(l):\n",
    "    return max(set(l), key=l.count)"
   ]
  },
  {
   "cell_type": "code",
   "execution_count": 10,
   "id": "4b46a539",
   "metadata": {},
   "outputs": [
    {
     "data": {
      "text/plain": [
       "0.0"
      ]
     },
     "execution_count": 10,
     "metadata": {},
     "output_type": "execute_result"
    }
   ],
   "source": [
    "filtered = [q for q in questions if 'output' in q and len(q['output'])]\n",
    "correct = 0\n",
    "for q in filtered:\n",
    "    correct += most_common(q['output']) == q['jawapan']\n",
    "(correct / len(filtered)) * 100"
   ]
  },
  {
   "cell_type": "code",
   "execution_count": 13,
   "id": "bc8192fd",
   "metadata": {},
   "outputs": [
    {
     "name": "stdout",
     "output_type": "stream",
     "text": [
      "['A'] C\n",
      "['A'] B\n",
      "[] D\n",
      "['A', 'A'] C\n",
      "['A', 'A'] B\n",
      "['D', 'B'] D\n",
      "['A', 'A', 'A'] C\n",
      "['A'] D\n",
      "['A'] B\n",
      "['A', 'D'] B\n",
      "['D', 'A'] D\n",
      "['A'] B\n",
      "[] D\n",
      "['A', 'A'] B\n",
      "['A'] C\n",
      "[] A\n",
      "['B'] D\n",
      "['A'] C\n",
      "['A'] C\n",
      "['D'] A\n"
     ]
    }
   ],
   "source": [
    "for q in questions:\n",
    "    print(q['output'], q['jawapan'])"
   ]
  }
 ],
 "metadata": {
  "kernelspec": {
   "display_name": "Python 3 (ipykernel)",
   "language": "python",
   "name": "python3"
  },
  "language_info": {
   "codemirror_mode": {
    "name": "ipython",
    "version": 3
   },
   "file_extension": ".py",
   "mimetype": "text/x-python",
   "name": "python",
   "nbconvert_exporter": "python",
   "pygments_lexer": "ipython3",
   "version": "3.10.13"
  }
 },
 "nbformat": 4,
 "nbformat_minor": 5
}
