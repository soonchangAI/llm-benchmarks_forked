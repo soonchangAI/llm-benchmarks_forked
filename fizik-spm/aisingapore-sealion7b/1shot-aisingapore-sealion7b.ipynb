{
 "cells": [
  {
   "cell_type": "code",
   "execution_count": 1,
   "id": "0746741b",
   "metadata": {},
   "outputs": [],
   "source": [
    "# !wget https://raw.githubusercontent.com/mesolitica/malaysian-dataset/master/llm-benchmark/BM-pt3/BM-A-pt3"
   ]
  },
  {
   "cell_type": "code",
   "execution_count": 2,
   "id": "c5e2f8e8",
   "metadata": {},
   "outputs": [],
   "source": [
    "# !pip3 install transformers==4.34.1"
   ]
  },
  {
   "cell_type": "code",
   "execution_count": 3,
   "id": "b6d200e3",
   "metadata": {},
   "outputs": [
    {
     "name": "stderr",
     "output_type": "stream",
     "text": [
      "/home/cybertron/anaconda3/envs/sealion/lib/python3.10/site-packages/tqdm/auto.py:21: TqdmWarning: IProgress not found. Please update jupyter and ipywidgets. See https://ipywidgets.readthedocs.io/en/stable/user_install.html\n",
      "  from .autonotebook import tqdm as notebook_tqdm\n",
      "The model weights are not tied. Please use the `tie_weights` method before using the `infer_auto_device` function.\n",
      "Loading checkpoint shards: 100%|███████████████████████████████████████████████████████████████████████████████| 2/2 [04:37<00:00, 138.78s/it]\n"
     ]
    }
   ],
   "source": [
    "from transformers import AutoTokenizer, AutoModelForCausalLM\n",
    "import torch\n",
    "\n",
    "# tokenizer = AutoTokenizer.from_pretrained('aisingapore/sealion7b', trust_remote_code = True)\n",
    "# model = AutoModelForCausalLM.from_pretrained(\n",
    "#     'aisingapore/sealion7b',\n",
    "#     trust_remote_code = True,\n",
    "#     torch_dtype = torch.float16,\n",
    "#     device_map=\"cuda:0\"\n",
    "# )\n",
    "tokenizer = AutoTokenizer.from_pretrained('aisingapore/sealion7b', trust_remote_code = True)\n",
    "model = AutoModelForCausalLM.from_pretrained(\n",
    "    'aisingapore/sealion7b',\n",
    "    trust_remote_code = True,\n",
    "    torch_dtype = torch.float16,\n",
    "    device_map=\"auto\"\n",
    ")"
   ]
  },
  {
   "cell_type": "code",
   "execution_count": 4,
   "id": "7d16b8ef",
   "metadata": {},
   "outputs": [],
   "source": [
    "from tqdm import tqdm\n",
    "import os\n",
    "import random\n",
    "torch.manual_seed(404)\n",
    "random.seed(404)"
   ]
  },
  {
   "cell_type": "code",
   "execution_count": 5,
   "id": "a06177bd",
   "metadata": {},
   "outputs": [
    {
     "name": "stdout",
     "output_type": "stream",
     "text": [
      "{'no': '1', 'soalan': 'Antara yang berikut, yang manakah kuantiti vektor?\\nA. Tenaga\\nB. Jisim\\nC. Daya\\nD. Laju', 'jawapan': 'C'}\n",
      "\n",
      "{'no': '2', 'soalan': 'Manakah antara berikut mempunyai inersia yang paling kecil?\\nA. 1.8 kg arnab\\nB. 850 g spanar\\nC. 1350 g kuali\\nD. 1.25 kg mikroskop', 'jawapan': 'B'}\n",
      "\n",
      "{'no': '3', 'soalan': 'Apakah konsep yang digunakan dalam pengukuran suhu kopi menggunakan termometer?\\nA. Perolakan terma\\nB. Muatan haba tentu\\nC. Haba pendam tentu\\nD. Keseimbangan terma', 'jawapan': 'D'}\n",
      "\n",
      "{'no': '4', 'soalan': 'Antara hukum yang berikut, manakah menyatakan hubungan antara tekanan dan suhu pada isi padu gas malar?\\nA. Hukum Boyle\\nB. Hukum Charles\\nC. Hukum Gay-Lussac\\nD. Hukum Avogadro', 'jawapan': 'C'}\n",
      "\n",
      "{'no': '5', 'soalan': 'Antara berikut, yang manakah merupakan ciri gelombang biasan dari kawasan air cetek ke kawasan air dalam?\\nA. Sudut tuju lebih daripada sudut pembiasan.\\nB. Panjang gelombang meningkat.\\nC. Frekuensi berkurang.\\nD. Frekuensi meningkat.', 'jawapan': 'B'}\n",
      "\n",
      "{'no': '6', 'soalan': 'Ketinggian turus merkuri dalam sebuah barometer akan berkurang jika.....\\nA. tiub kaca diturunkan ke dalam bekas.\\nB. tiub kaca dinaikkan ke atas\\nC. tiub kaca dicondongkan\\nD. tekanan atmosfera berkurang', 'jawapan': 'D'}\n",
      "\n",
      "{'no': '7', 'soalan': 'Mengapakah sel suria mesti disusun secara sesiri untuk membentuk satu panel solar?\\nA. Mengurangkan rintangan dalam\\nB. Menyerap lebih banyak tenaga haba\\nC. Menghasilkan voltan yang tinggi\\nD. Mengurangkan pengaliran arus', 'jawapan': 'C'}\n",
      "\n",
      "{'no': '8', 'soalan': 'Pernyataan manakah yang betul tentang transformer injak turun?\\nA.  Arus output lebih besar daripada arus input\\nB.  Kuasa output lebih besar daripada kuasa input\\nC.  Voltan output lebih tinggi daripada voltan input\\nD.  Voltan output lebih rendah daripada voltan input', 'jawapan': 'D'}\n",
      "\n",
      "{'no': '9', 'soalan': 'Jasad hitam merupakan .........\\nA. suatu jasad yang tiada keupayaan untuk menyerap semua sinaran elektromagnet.\\nB. suatu jasad yang berupaya menyerap semua sinaran elektromagnet.\\nC. suatu jasad yang tidak dapat memancarkan sinaran termal.\\nD. suatu jasad yang memancarkan gelombang dengan frekuensi yang rendah.', 'jawapan': 'B'}\n",
      "\n",
      "{'no': '10', 'soalan': 'Kuantiti fizik manakah adalah bukan kuantiti asas?\\nA. Jisim\\nB. Berat\\nC. Kuantiti jirim\\nD. Keamatan berluminositi', 'jawapan': 'B'}\n",
      "\n",
      "{'no': '11', 'soalan': 'Prinsip keabadian momentum menyatakan bahawa\\nA. momentum berkadar terus dengan jisim dan halaju.\\nB. momentum sebelum perlanggaran adalah sama dengan momentum selepas perlanggaran.\\nC. jumlah momentum bagi suatu perlanggaran ataupun letupan adalah tidak diabadikan.\\nD. jumlah momentum sebelum perlanggaran adalah sama dengan jumlah momentum selepas perlanggaran jika tiada sebarang daya luar bertindak.', 'jawapan': 'D'}\n",
      "\n",
      "{'no': '12', 'soalan': 'Antara yang berikut, yang manakah ciri-ciri satelit bukan geopegun?\\nA. Arah putarannya sama dengan arah putaran Bumi\\nB. Tempoh orbitnya boleh melebihi atau kurang daripada 24 jam\\nC. Digunakan untuk berkomunikasi dengan seluruh dunia\\nD. Kedudukan satelit berada di atas kedudukan geografi yang sama di permukaan Bumi', 'jawapan': 'B'}\n",
      "\n",
      "{'no': '13', 'soalan': 'Dua objek yang berada dalam keseimbangan terma mempunyai\\nA. jisim yang sama\\nB. kuantiti tenaga haba yang sama\\nC. muatan haba yang sama\\nD. suhu yang sama', 'jawapan': 'D'}\n",
      "\n",
      "{'no': '14', 'soalan': 'Manakah kuantiti fizikal yang akan berubah apabila amplitud gelombang bertambah?\\nA. Tempoh berkurang\\nB. Tenaga bertambah\\nC. Laju akan bertambah\\nD. Panjang gelombang bertambah', 'jawapan': 'B'}\n",
      "\n",
      "{'no': '15', 'soalan': 'Antara yang berikut, yang manakah menunjukkan ciri-ciri imej yang dilihat di bawah kanta pembesar?\\nA. Nyata dan tegak\\nB. Nyata dan songsang\\nC. Maya dan tegak\\nD. Maya dan songsang', 'jawapan': 'C'}\n",
      "\n",
      "{'no': '16', 'soalan': 'Suatu objek berada 25 cm di hadapan sebuah kanta cembung dengan panjang fokus 10 cm. Berapakah jarak imej yang terhasil?\\nA. 16.7cm\\nB. 20.0cm\\nC. 25.0cm\\nD. 35.0cm', 'jawapan': 'A'}\n",
      "\n",
      "{'no': '17', 'soalan': 'Daya-daya seimbang yang bertindak ke atas suatu objek yang sedang bergerak akan menyebabkan objek itu\\nI. terus bergerak\\nII. menyahpecut\\nIII. bergerak dengan halaju seragam\\nA. III sahaja\\nB. I dan II sahaja\\nC. II dan III sahaja\\nD. I dan III sahaja', 'jawapan': 'D'}\n",
      "\n",
      "{'no': '18', 'soalan': 'Leraian daya ialah\\nA. Gabungan dua atau lebih daya.\\nB. Satu tindakan menarik atau menolak.\\nC. Proses meleraikan satu daya kepada dua komponen.\\nD. Satu daya yang mewakili jumlah vektor bagi dua daya yang bertindak terhadap suatu objek.', 'jawapan': 'C'}\n",
      "\n",
      "{'no': '19', 'soalan': 'Tekanan yang dikenakan pada suatu bekas silinder yang berisi cecair dipengaruhi oleh yang berikut, kecuali\\nA. ketumpatan cecair\\nB. panjang lajur cecair\\nC. luas keratan rentas lajur cecair\\nD. pecutan yang disebabkan oleh graviti', 'jawapan': 'C'}\n",
      "\n",
      "{'no': '20', 'soalan': 'Tekanan atmosfera boleh diukur dengan menggunakan\\nA. barometer\\nB. tolok Bourdon\\nC. hidrometer\\nD. oximeter', 'jawapan': 'A'}\n",
      "\n"
     ]
    }
   ],
   "source": [
    "\n",
    "data_folder = '/media/cybertron/fa54fcb6-b5e1-492e-978a-6389519c168a/llm-benchmarks/fizik-spm/data/'\n",
    "with open(data_folder+ 'fizik') as fopen:\n",
    "    text = fopen.read()\n",
    "    \n",
    "questions = []\n",
    "for t in text.split('no: ')[1:]:\n",
    "    t = t.strip()\n",
    "    no = t.split('\\n')[0]\n",
    "    #objektif = t.split('objektif: ')[1].split('\\n')[0]\n",
    "    soalan = t.split('soalan:')[1].split('jawapan:')[0].strip()\n",
    "    jawapan = t.split('jawapan: ')[1].split(',')[0].strip()\n",
    "    data = {\n",
    "        'no': no,\n",
    "        'soalan': soalan,\n",
    "        'jawapan': jawapan,\n",
    "    }\n",
    "    questions.append(data)\n",
    "    print(data)\n",
    "    print()"
   ]
  },
  {
   "cell_type": "code",
   "execution_count": 6,
   "id": "363cad90",
   "metadata": {},
   "outputs": [],
   "source": [
    "arange = set(range(len(questions)))"
   ]
  },
  {
   "cell_type": "code",
   "execution_count": 7,
   "id": "87bc46c3",
   "metadata": {},
   "outputs": [],
   "source": [
    "def convert_prompt(row, answer = False):\n",
    "    if answer:\n",
    "        prompt = f\"\"\"\n",
    "soalan: {row['soalan']}\n",
    "jawapan: {row['jawapan']}\n",
    "    \"\"\"\n",
    "    else:\n",
    "        prompt = f\"\"\"\n",
    "soalan: {row['soalan']}\n",
    "jawapan:\n",
    "    \"\"\"\n",
    "    return prompt.strip()"
   ]
  },
  {
   "cell_type": "code",
   "execution_count": 8,
   "id": "59e46fdf",
   "metadata": {},
   "outputs": [
    {
     "name": "stdout",
     "output_type": "stream",
     "text": [
      "soalan: Manakah antara berikut mempunyai inersia yang paling kecil?\n",
      "A. 1.8 kg arnab\n",
      "B. 850 g spanar\n",
      "C. 1350 g kuali\n",
      "D. 1.25 kg mikroskop\n",
      "jawapan:\n"
     ]
    }
   ],
   "source": [
    "i = 1\n",
    "prompts = []\n",
    "\n",
    "prompts.append(convert_prompt(questions[i]))\n",
    "prompt = '\\n\\n'.join(prompts).strip()\n",
    "print(prompt)"
   ]
  },
  {
   "cell_type": "code",
   "execution_count": 9,
   "id": "d4af3093",
   "metadata": {},
   "outputs": [
    {
     "data": {
      "text/plain": [
       "{'input_ids': tensor([[128148, 249853,   1562,  15095,  19577,  20418,  17575,    337,    393,\n",
       "            523,    948,  13134,  19598, 249905,      4, 249843, 249835, 249813,\n",
       "         249845, 249835, 249880,  17171,    613, 139863,      4, 249850, 249835,\n",
       "         249813, 249880, 249872, 249841,    346,  17233,    329,      4, 249844,\n",
       "         249835, 249813, 249845, 249869, 249872, 249841,    346,    378,  59586,\n",
       "              4, 249852, 249835, 249813, 249845, 249835, 249846, 249872,  17171,\n",
       "          73714,   5602,  51994,      4,  64068,   3329, 249853]],\n",
       "       device='cuda:0'), 'token_type_ids': tensor([[0, 0, 0, 0, 0, 0, 0, 0, 0, 0, 0, 0, 0, 0, 0, 0, 0, 0, 0, 0, 0, 0, 0, 0,\n",
       "         0, 0, 0, 0, 0, 0, 0, 0, 0, 0, 0, 0, 0, 0, 0, 0, 0, 0, 0, 0, 0, 0, 0, 0,\n",
       "         0, 0, 0, 0, 0, 0, 0, 0, 0, 0, 0, 0, 0]], device='cuda:0'), 'attention_mask': tensor([[1, 1, 1, 1, 1, 1, 1, 1, 1, 1, 1, 1, 1, 1, 1, 1, 1, 1, 1, 1, 1, 1, 1, 1,\n",
       "         1, 1, 1, 1, 1, 1, 1, 1, 1, 1, 1, 1, 1, 1, 1, 1, 1, 1, 1, 1, 1, 1, 1, 1,\n",
       "         1, 1, 1, 1, 1, 1, 1, 1, 1, 1, 1, 1, 1]], device='cuda:0')}"
      ]
     },
     "execution_count": 9,
     "metadata": {},
     "output_type": "execute_result"
    }
   ],
   "source": [
    "inputs = tokenizer([prompt], return_tensors='pt', add_special_tokens=False).to('cuda')\n",
    "inputs"
   ]
  },
  {
   "cell_type": "code",
   "execution_count": 10,
   "id": "9b275593",
   "metadata": {},
   "outputs": [
    {
     "data": {
      "text/plain": [
       "tensor([[0, 0, 0, 0, 0, 0, 0, 0, 0, 0, 0, 0, 0, 0, 0, 0, 0, 0, 0, 0, 0, 0, 0, 0,\n",
       "         0, 0, 0, 0, 0, 0, 0, 0, 0, 0, 0, 0, 0, 0, 0, 0, 0, 0, 0, 0, 0, 0, 0, 0,\n",
       "         0, 0, 0, 0, 0, 0, 0, 0, 0, 0, 0, 0, 0]], device='cuda:0')"
      ]
     },
     "execution_count": 10,
     "metadata": {},
     "output_type": "execute_result"
    }
   ],
   "source": [
    "inputs.pop('token_type_ids', None)"
   ]
  },
  {
   "cell_type": "code",
   "execution_count": 11,
   "id": "3cab7e18",
   "metadata": {},
   "outputs": [
    {
     "name": "stdout",
     "output_type": "stream",
     "text": [
      "['D', 'So']\n"
     ]
    }
   ],
   "source": [
    "generate_kwargs = dict(\n",
    "    inputs,\n",
    "    max_new_tokens=3,\n",
    "    top_p=0.95,\n",
    "    top_k=50,\n",
    "    temperature=0.1,\n",
    "    do_sample=True,\n",
    "    num_beams=1,\n",
    "    repetition_penalty=1.05,\n",
    ")\n",
    "r = model.generate(**generate_kwargs)\n",
    "print(tokenizer.decode(r[0]).split('jawapan:')[1].strip().split())"
   ]
  },
  {
   "cell_type": "code",
   "execution_count": 12,
   "id": "a02805aa",
   "metadata": {},
   "outputs": [
    {
     "name": "stderr",
     "output_type": "stream",
     "text": [
      "  0%|                                                                                                                  | 0/20 [00:00<?, ?it/s]/tmp/ipykernel_27388/2376134102.py:3: DeprecationWarning: Sampling from a set deprecated\n",
      "since Python 3.9 and will be removed in a subsequent version.\n",
      "  shots = random.sample(arange - {i}, 1)\n",
      "100%|█████████████████████████████████████████████████████████████████████████████████████████████████████████| 20/20 [01:38<00:00,  4.91s/it]\n"
     ]
    }
   ],
   "source": [
    "for i in tqdm(range(len(questions))):\n",
    "    \n",
    "    shots = random.sample(arange - {i}, 1)\n",
    "    prompts = []\n",
    "    for no, s in enumerate(shots):\n",
    "        prompts.append(f'Contoh soalan {no + 1}\\n' + convert_prompt(questions[s], answer = True))\n",
    "\n",
    "    prompts.append(convert_prompt(questions[i]))\n",
    "    prompt = '\\n\\n'.join(prompts)\n",
    "    inputs = tokenizer([prompt], return_tensors='pt', add_special_tokens=False).to('cuda')\n",
    "    inputs.pop('token_type_ids', None)\n",
    "    repeat = []\n",
    "    for _ in range(5):\n",
    "        try:\n",
    "            generate_kwargs = dict(\n",
    "                inputs,\n",
    "                max_new_tokens=3,\n",
    "                top_p=0.95,\n",
    "                top_k=50,\n",
    "                temperature=0.5,\n",
    "                do_sample=True,\n",
    "                num_beams=1,\n",
    "                repetition_penalty=1.05,\n",
    "            )\n",
    "            r = model.generate(**generate_kwargs)\n",
    "            r = tokenizer.decode(r[0]).split('jawapan:')[-1].strip().split()\n",
    "            repeat.append(r[0].replace('.', '').replace('</s>', '').split('\\\\')[0].split('/')[0])\n",
    "    \n",
    "        except Exception as e:\n",
    "            print(e)\n",
    "            pass\n",
    "    \n",
    "    questions[i]['output'] = repeat"
   ]
  },
  {
   "cell_type": "code",
   "execution_count": 13,
   "id": "93d03206",
   "metadata": {},
   "outputs": [],
   "source": [
    "import json\n",
    "\n",
    "with open('output-1shot-aisingapore-sealion7b.json', 'w') as fopen:\n",
    "    json.dump(questions, fopen)"
   ]
  },
  {
   "cell_type": "code",
   "execution_count": 14,
   "id": "c7b84ee9",
   "metadata": {},
   "outputs": [],
   "source": [
    "def most_common(l):\n",
    "    return max(set(l), key=l.count)"
   ]
  },
  {
   "cell_type": "code",
   "execution_count": 15,
   "id": "b7be72e1",
   "metadata": {},
   "outputs": [
    {
     "data": {
      "text/plain": [
       "25.0"
      ]
     },
     "execution_count": 15,
     "metadata": {},
     "output_type": "execute_result"
    }
   ],
   "source": [
    "filtered = [q for q in questions if 'output' in q]\n",
    "correct = 0\n",
    "for q in filtered:\n",
    "    correct += most_common(q['output']) == q['jawapan']\n",
    "(correct / len(filtered)) * 100"
   ]
  },
  {
   "cell_type": "code",
   "execution_count": 16,
   "id": "bd43ca6e",
   "metadata": {},
   "outputs": [
    {
     "data": {
      "text/plain": [
       "['D', 'D', 'C', 'D', 'C']"
      ]
     },
     "execution_count": 16,
     "metadata": {},
     "output_type": "execute_result"
    }
   ],
   "source": [
    "repeat"
   ]
  },
  {
   "cell_type": "code",
   "execution_count": 17,
   "id": "d937c65e-7b70-43d8-a69b-c89665240589",
   "metadata": {},
   "outputs": [
    {
     "data": {
      "text/plain": [
       "'Contoh soalan 1\\nsoalan: Antara berikut, yang manakah merupakan ciri gelombang biasan dari kawasan air cetek ke kawasan air dalam?\\nA. Sudut tuju lebih daripada sudut pembiasan.\\nB. Panjang gelombang meningkat.\\nC. Frekuensi berkurang.\\nD. Frekuensi meningkat.\\njawapan: B\\n\\nsoalan: Tekanan atmosfera boleh diukur dengan menggunakan\\nA. barometer\\nB. tolok Bourdon\\nC. hidrometer\\nD. oximeter\\njawapan:'"
      ]
     },
     "execution_count": 17,
     "metadata": {},
     "output_type": "execute_result"
    }
   ],
   "source": [
    "prompt"
   ]
  }
 ],
 "metadata": {
  "kernelspec": {
   "display_name": "Python 3 (ipykernel)",
   "language": "python",
   "name": "python3"
  },
  "language_info": {
   "codemirror_mode": {
    "name": "ipython",
    "version": 3
   },
   "file_extension": ".py",
   "mimetype": "text/x-python",
   "name": "python",
   "nbconvert_exporter": "python",
   "pygments_lexer": "ipython3",
   "version": "3.10.13"
  }
 },
 "nbformat": 4,
 "nbformat_minor": 5
}
