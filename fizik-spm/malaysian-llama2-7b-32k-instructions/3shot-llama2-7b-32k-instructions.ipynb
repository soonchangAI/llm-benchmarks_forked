{
 "cells": [
  {
   "cell_type": "code",
   "execution_count": 1,
   "id": "0746741b",
   "metadata": {},
   "outputs": [],
   "source": [
    "# !wget https://raw.githubusercontent.com/mesolitica/malaysian-dataset/master/llm-benchmark/BM-pt3/BM-A-pt3"
   ]
  },
  {
   "cell_type": "code",
   "execution_count": 2,
   "id": "f3bb2d65",
   "metadata": {},
   "outputs": [],
   "source": [
    "# import os\n",
    "\n",
    "# os.environ['CUDA_VISIBLE_DEVICES'] = '2'"
   ]
  },
  {
   "cell_type": "code",
   "execution_count": 3,
   "id": "93518b4a",
   "metadata": {},
   "outputs": [
    {
     "name": "stderr",
     "output_type": "stream",
     "text": [
      "/home/cybertron/anaconda3/envs/sealion/lib/python3.10/site-packages/tqdm/auto.py:21: TqdmWarning: IProgress not found. Please update jupyter and ipywidgets. See https://ipywidgets.readthedocs.io/en/stable/user_install.html\n",
      "  from .autonotebook import tqdm as notebook_tqdm\n"
     ]
    }
   ],
   "source": [
    "from transformers import AutoTokenizer, AutoModelForCausalLM\n",
    "import torch\n",
    "from transformers.trainer_utils import get_last_checkpoint\n",
    "\n",
    "# latest = get_last_checkpoint(\"fpf-7b-instructions-16k-call\")"
   ]
  },
  {
   "cell_type": "code",
   "execution_count": 4,
   "id": "b6d200e3",
   "metadata": {},
   "outputs": [
    {
     "name": "stderr",
     "output_type": "stream",
     "text": [
      "Loading checkpoint shards: 100%|████████████████████████████████████████████████████████████████████████████████| 3/3 [00:04<00:00,  1.59s/it]\n"
     ]
    }
   ],
   "source": [
    "# tokenizer = AutoTokenizer.from_pretrained(latest)\n",
    "# model = AutoModelForCausalLM.from_pretrained(\n",
    "#     latest, \n",
    "#     use_flash_attention_2 = True, \n",
    "#     torch_dtype = torch.float16,\n",
    "#     device_map=\"cuda:0\"\n",
    "# )\n",
    "tokenizer = AutoTokenizer.from_pretrained('mesolitica/malaysian-llama2-7b-32k-instructions-v2', trust_remote_code=True)\n",
    "kwargs = {'device_map': 'auto', 'torch_dtype': torch.float16}\n",
    "model= AutoModelForCausalLM.from_pretrained('mesolitica/malaysian-llama2-7b-32k-instructions-v2', **kwargs)"
   ]
  },
  {
   "cell_type": "code",
   "execution_count": 5,
   "id": "7d16b8ef",
   "metadata": {},
   "outputs": [],
   "source": [
    "from tqdm import tqdm\n",
    "import os\n",
    "import random\n",
    "torch.manual_seed(404)\n",
    "random.seed(404)"
   ]
  },
  {
   "cell_type": "code",
   "execution_count": 6,
   "id": "a06177bd",
   "metadata": {},
   "outputs": [
    {
     "name": "stdout",
     "output_type": "stream",
     "text": [
      "{'no': '1', 'soalan': 'Antara yang berikut, yang manakah kuantiti vektor?\\nA. Tenaga\\nB. Jisim\\nC. Daya\\nD. Laju', 'jawapan': 'C'}\n",
      "{'no': '2', 'soalan': 'Manakah antara berikut mempunyai inersia yang paling kecil?\\nA. 1.8 kg arnab\\nB. 850 g spanar\\nC. 1350 g kuali\\nD. 1.25 kg mikroskop', 'jawapan': 'B'}\n",
      "{'no': '3', 'soalan': 'Apakah konsep yang digunakan dalam pengukuran suhu kopi menggunakan termometer?\\nA. Perolakan terma\\nB. Muatan haba tentu\\nC. Haba pendam tentu\\nD. Keseimbangan terma', 'jawapan': 'D'}\n",
      "{'no': '4', 'soalan': 'Antara hukum yang berikut, manakah menyatakan hubungan antara tekanan dan suhu pada isi padu gas malar?\\nA. Hukum Boyle\\nB. Hukum Charles\\nC. Hukum Gay-Lussac\\nD. Hukum Avogadro', 'jawapan': 'C'}\n",
      "{'no': '5', 'soalan': 'Antara berikut, yang manakah merupakan ciri gelombang biasan dari kawasan air cetek ke kawasan air dalam?\\nA. Sudut tuju lebih daripada sudut pembiasan.\\nB. Panjang gelombang meningkat.\\nC. Frekuensi berkurang.\\nD. Frekuensi meningkat.', 'jawapan': 'B'}\n",
      "{'no': '6', 'soalan': 'Ketinggian turus merkuri dalam sebuah barometer akan berkurang jika.....\\nA. tiub kaca diturunkan ke dalam bekas.\\nB. tiub kaca dinaikkan ke atas\\nC. tiub kaca dicondongkan\\nD. tekanan atmosfera berkurang', 'jawapan': 'D'}\n",
      "{'no': '7', 'soalan': 'Mengapakah sel suria mesti disusun secara sesiri untuk membentuk satu panel solar?\\nA. Mengurangkan rintangan dalam\\nB. Menyerap lebih banyak tenaga haba\\nC. Menghasilkan voltan yang tinggi\\nD. Mengurangkan pengaliran arus', 'jawapan': 'C'}\n",
      "{'no': '8', 'soalan': 'Pernyataan manakah yang betul tentang transformer injak turun?\\nA.  Arus output lebih besar daripada arus input\\nB.  Kuasa output lebih besar daripada kuasa input\\nC.  Voltan output lebih tinggi daripada voltan input\\nD.  Voltan output lebih rendah daripada voltan input', 'jawapan': 'D'}\n",
      "{'no': '9', 'soalan': 'Jasad hitam merupakan .........\\nA. suatu jasad yang tiada keupayaan untuk menyerap semua sinaran elektromagnet.\\nB. suatu jasad yang berupaya menyerap semua sinaran elektromagnet.\\nC. suatu jasad yang tidak dapat memancarkan sinaran termal.\\nD. suatu jasad yang memancarkan gelombang dengan frekuensi yang rendah.', 'jawapan': 'B'}\n",
      "{'no': '10', 'soalan': 'Kuantiti fizik manakah adalah bukan kuantiti asas?\\nA. Jisim\\nB. Berat\\nC. Kuantiti jirim\\nD. Keamatan berluminositi', 'jawapan': 'B'}\n",
      "{'no': '11', 'soalan': 'Prinsip keabadian momentum menyatakan bahawa\\nA. momentum berkadar terus dengan jisim dan halaju.\\nB. momentum sebelum perlanggaran adalah sama dengan momentum selepas perlanggaran.\\nC. jumlah momentum bagi suatu perlanggaran ataupun letupan adalah tidak diabadikan.\\nD. jumlah momentum sebelum perlanggaran adalah sama dengan jumlah momentum selepas perlanggaran jika tiada sebarang daya luar bertindak.', 'jawapan': 'D'}\n",
      "{'no': '12', 'soalan': 'Antara yang berikut, yang manakah ciri-ciri satelit bukan geopegun?\\nA. Arah putarannya sama dengan arah putaran Bumi\\nB. Tempoh orbitnya boleh melebihi atau kurang daripada 24 jam\\nC. Digunakan untuk berkomunikasi dengan seluruh dunia\\nD. Kedudukan satelit berada di atas kedudukan geografi yang sama di permukaan Bumi', 'jawapan': 'B'}\n",
      "{'no': '13', 'soalan': 'Dua objek yang berada dalam keseimbangan terma mempunyai\\nA. jisim yang sama\\nB. kuantiti tenaga haba yang sama\\nC. muatan haba yang sama\\nD. suhu yang sama', 'jawapan': 'D'}\n",
      "{'no': '14', 'soalan': 'Manakah kuantiti fizikal yang akan berubah apabila amplitud gelombang bertambah?\\nA. Tempoh berkurang\\nB. Tenaga bertambah\\nC. Laju akan bertambah\\nD. Panjang gelombang bertambah', 'jawapan': 'B'}\n",
      "{'no': '15', 'soalan': 'Antara yang berikut, yang manakah menunjukkan ciri-ciri imej yang dilihat di bawah kanta pembesar?\\nA. Nyata dan tegak\\nB. Nyata dan songsang\\nC. Maya dan tegak\\nD. Maya dan songsang', 'jawapan': 'C'}\n",
      "{'no': '16', 'soalan': 'Suatu objek berada 25 cm di hadapan sebuah kanta cembung dengan panjang fokus 10 cm. Berapakah jarak imej yang terhasil?\\nA. 16.7cm\\nB. 20.0cm\\nC. 25.0cm\\nD. 35.0cm', 'jawapan': 'A'}\n",
      "{'no': '17', 'soalan': 'Daya-daya seimbang yang bertindak ke atas suatu objek yang sedang bergerak akan menyebabkan objek itu\\nI. terus bergerak\\nII. menyahpecut\\nIII. bergerak dengan halaju seragam\\nA. III sahaja\\nB. I dan II sahaja\\nC. II dan III sahaja\\nD. I dan III sahaja', 'jawapan': 'D'}\n",
      "{'no': '18', 'soalan': 'Leraian daya ialah\\nA. Gabungan dua atau lebih daya.\\nB. Satu tindakan menarik atau menolak.\\nC. Proses meleraikan satu daya kepada dua komponen.\\nD. Satu daya yang mewakili jumlah vektor bagi dua daya yang bertindak terhadap suatu objek.', 'jawapan': 'C'}\n",
      "{'no': '19', 'soalan': 'Tekanan yang dikenakan pada suatu bekas silinder yang berisi cecair dipengaruhi oleh yang berikut, kecuali\\nA. ketumpatan cecair\\nB. panjang lajur cecair\\nC. luas keratan rentas lajur cecair\\nD. pecutan yang disebabkan oleh graviti', 'jawapan': 'C'}\n",
      "{'no': '20', 'soalan': 'Tekanan atmosfera boleh diukur dengan menggunakan\\nA. barometer\\nB. tolok Bourdon\\nC. hidrometer\\nD. oximeter', 'jawapan': 'A'}\n"
     ]
    }
   ],
   "source": [
    "\n",
    "data_folder = '/media/cybertron/fa54fcb6-b5e1-492e-978a-6389519c168a/llm-benchmarks/fizik-spm/data/'\n",
    "with open(data_folder+ 'fizik') as fopen:\n",
    "    text = fopen.read()\n",
    "    \n",
    "    \n",
    "questions = []\n",
    "for t in text.split('no: ')[1:]:\n",
    "    t = t.strip()\n",
    "    no = t.split('\\n')[0]\n",
    "    soalan = t.split('soalan:')[1].split('jawapan:')[0].strip()\n",
    "    jawapan = t.split('jawapan: ')[1].split(',')[0].strip()\n",
    "    data = {\n",
    "        'no': no,\n",
    "        'soalan': soalan,\n",
    "        'jawapan': jawapan,\n",
    "    }\n",
    "    print(data)\n",
    "    questions.append(data)"
   ]
  },
  {
   "cell_type": "code",
   "execution_count": 7,
   "id": "363cad90",
   "metadata": {},
   "outputs": [],
   "source": [
    "arange = set(range(len(questions)))"
   ]
  },
  {
   "cell_type": "code",
   "execution_count": 8,
   "id": "87bc46c3",
   "metadata": {},
   "outputs": [],
   "source": [
    "def convert_prompt(row, answer = False):\n",
    "    if answer:\n",
    "        prompt = f\"\"\"\n",
    "soalan: {row['soalan']}\n",
    "jawapan: {row['jawapan']}\n",
    "    \"\"\"\n",
    "    else:\n",
    "        prompt = f\"\"\"\n",
    "soalan: {row['soalan']}\n",
    "jawapan:\n",
    "    \"\"\"\n",
    "    return prompt.strip()"
   ]
  },
  {
   "cell_type": "code",
   "execution_count": 9,
   "id": "72405b80",
   "metadata": {},
   "outputs": [],
   "source": [
    "def parse_llama_chat(messages):\n",
    "\n",
    "    system = messages[0]['content']\n",
    "    user_query = messages[-1]['content']\n",
    "\n",
    "    users, assistants = [], []\n",
    "    for q in messages[1:-1]:\n",
    "        if q['role'] == 'user':\n",
    "            users.append(q['content'])\n",
    "        elif q['role'] == 'assistant':\n",
    "            assistants.append(q['content'])\n",
    "\n",
    "    texts = [f'<s>[INST] <<SYS>>\\n{system}\\n<</SYS>>\\n\\n']\n",
    "    for u, a in zip(users, assistants):\n",
    "        texts.append(f'{u.strip()} [/INST] {a.strip()} </s><s>[INST] ')\n",
    "    texts.append(f'{user_query.strip()} [/INST]')\n",
    "    prompt = ''.join(texts).strip()\n",
    "    return prompt"
   ]
  },
  {
   "cell_type": "code",
   "execution_count": 10,
   "id": "a02805aa",
   "metadata": {},
   "outputs": [
    {
     "name": "stderr",
     "output_type": "stream",
     "text": [
      "  0%|                                                                                                                  | 0/20 [00:00<?, ?it/s]/tmp/ipykernel_25622/591842565.py:3: DeprecationWarning: Sampling from a set deprecated\n",
      "since Python 3.9 and will be removed in a subsequent version.\n",
      "  shots = random.sample(arange - {i}, 3)\n",
      "100%|█████████████████████████████████████████████████████████████████████████████████████████████████████████| 20/20 [01:29<00:00,  4.46s/it]\n"
     ]
    }
   ],
   "source": [
    "for i in tqdm(range(len(questions))):\n",
    "    \n",
    "    shots = random.sample(arange - {i}, 3)\n",
    "    prompts = []\n",
    "    for no, s in enumerate(shots):\n",
    "        prompts.append(f'Contoh soalan {no + 1}\\n' + convert_prompt(questions[s], answer = True))\n",
    "\n",
    "    prompts.append(convert_prompt(questions[i]))\n",
    "    prompt = '\\n\\n'.join(prompts)\n",
    "    messages = [\n",
    "        {'role': 'system', 'content': 'awak adalah AI yang mampu jawab segala soalan'},\n",
    "        {'role': 'user', 'content': prompt}\n",
    "    ]\n",
    "    prompt = parse_llama_chat(messages)\n",
    "    # print(prompt)\n",
    "    # break\n",
    "    inputs = tokenizer([prompt], return_tensors='pt', add_special_tokens=False).to('cuda')\n",
    "    repeat = []\n",
    "    for _ in range(5):\n",
    "        try:\n",
    "            generate_kwargs = dict(\n",
    "                inputs,\n",
    "                max_new_tokens=100,\n",
    "                top_p=0.95,\n",
    "                top_k=50,\n",
    "                temperature=0.3,\n",
    "                do_sample=True,\n",
    "                num_beams=1,\n",
    "                repetition_penalty=1.05,\n",
    "            )\n",
    "            r = model.generate(**generate_kwargs)\n",
    "            splitted = tokenizer.decode(r[0]).split('[/INST]')[1].strip().replace('</s>', '').replace('.', '').replace(',', '').strip().split()\n",
    "            splitted = [t for t in splitted if len(t) == 1 and t in {'A', 'B', 'C', 'D'}]\n",
    "            repeat.append(splitted[0])\n",
    "    \n",
    "        except Exception as e:\n",
    "            pass\n",
    "    \n",
    "    questions[i]['output'] = repeat"
   ]
  },
  {
   "cell_type": "code",
   "execution_count": 11,
   "id": "c7b84ee9",
   "metadata": {},
   "outputs": [],
   "source": [
    "def most_common(l):\n",
    "    return max(set(l), key=l.count)"
   ]
  },
  {
   "cell_type": "code",
   "execution_count": 12,
   "id": "b7be72e1",
   "metadata": {},
   "outputs": [
    {
     "data": {
      "text/plain": [
       "35.0"
      ]
     },
     "execution_count": 12,
     "metadata": {},
     "output_type": "execute_result"
    }
   ],
   "source": [
    "filtered = [q for q in questions if 'output' in q and len(q['output'])]\n",
    "correct = 0\n",
    "for q in filtered:\n",
    "    correct += most_common(q['output']) == q['jawapan']\n",
    "(correct / len(filtered)) * 100"
   ]
  },
  {
   "cell_type": "code",
   "execution_count": 13,
   "id": "b5f9f4ce",
   "metadata": {},
   "outputs": [
    {
     "data": {
      "text/plain": [
       "'<s>[INST] <<SYS>>\\nawak adalah AI yang mampu jawab segala soalan\\n<</SYS>>\\n\\nContoh soalan 1\\nsoalan: Kuantiti fizik manakah adalah bukan kuantiti asas?\\nA. Jisim\\nB. Berat\\nC. Kuantiti jirim\\nD. Keamatan berluminositi\\njawapan: B\\n\\nContoh soalan 2\\nsoalan: Mengapakah sel suria mesti disusun secara sesiri untuk membentuk satu panel solar?\\nA. Mengurangkan rintangan dalam\\nB. Menyerap lebih banyak tenaga haba\\nC. Menghasilkan voltan yang tinggi\\nD. Mengurangkan pengaliran arus\\njawapan: C\\n\\nContoh soalan 3\\nsoalan: Daya-daya seimbang yang bertindak ke atas suatu objek yang sedang bergerak akan menyebabkan objek itu\\nI. terus bergerak\\nII. menyahpecut\\nIII. bergerak dengan halaju seragam\\nA. III sahaja\\nB. I dan II sahaja\\nC. II dan III sahaja\\nD. I dan III sahaja\\njawapan: D\\n\\nsoalan: Tekanan atmosfera boleh diukur dengan menggunakan\\nA. barometer\\nB. tolok Bourdon\\nC. hidrometer\\nD. oximeter\\njawapan: [/INST]'"
      ]
     },
     "execution_count": 13,
     "metadata": {},
     "output_type": "execute_result"
    }
   ],
   "source": [
    "prompt"
   ]
  }
 ],
 "metadata": {
  "kernelspec": {
   "display_name": "Python 3 (ipykernel)",
   "language": "python",
   "name": "python3"
  },
  "language_info": {
   "codemirror_mode": {
    "name": "ipython",
    "version": 3
   },
   "file_extension": ".py",
   "mimetype": "text/x-python",
   "name": "python",
   "nbconvert_exporter": "python",
   "pygments_lexer": "ipython3",
   "version": "3.10.13"
  }
 },
 "nbformat": 4,
 "nbformat_minor": 5
}
